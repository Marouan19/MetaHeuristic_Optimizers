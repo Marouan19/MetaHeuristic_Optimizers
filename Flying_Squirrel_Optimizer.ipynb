{
 "cells": [
  {
   "metadata": {},
   "cell_type": "markdown",
   "source": [
    "<img src=\"Img/img.png\" alt=\"FST Logo\" width=\"1700\" height=\"500\" >\n",
    "<h1 style=\"text-align:center;font-size:200%;;\">Flying Squirrel Optimizer</h1>\n",
    "<h4 style=\"text-align:center;\">Réaliser par  :  DAGHMOUMI Marouan </h4>\n",
    "<h4 style=\"text-align:center;\">Encadré par  : Pr. JEBARI Khalid</h4>"
   ],
   "id": "27eaeb7dc7a6a31a"
  },
  {
   "metadata": {},
   "cell_type": "markdown",
   "source": [
    "## Définition\n",
    "L'Optimiseur d'Écureuil Volant (OEV) est un algorithme d'optimisation inspiré de la nature, basé sur le comportement de glisse des écureuils volants. L'algorithme imite la façon dont les écureuils volants glissent d'un arbre à l'autre à la recherche de nourriture.\n",
    "\n",
    "## Principe\n",
    "\n",
    "L'algorithme OEV fonctionne en initialisant une population d'écureuils volants (solutions) puis en mettant à jour itérativement leurs positions en fonction de leur fitness et de la position de la meilleure solution trouvée jusqu'à présent.\n",
    "\n",
    "## Étapes\n",
    "\n",
    "### 1. Initialisation\n",
    "\n",
    "Générer une population initiale d'écureuils volants de manière aléatoire. Chaque écureuil représente une solution potentielle au problème d'optimisation.\n",
    "\n",
    "$\\[ \\mathbf{X}_i^{(0)} = \\mathbf{X}_{\\min} + \\mathbf{r}_i (\\mathbf{X}_{\\max} - \\mathbf{X}_{\\min}) \\]$\n",
    "\n",
    "- $\\(\\mathbf{X}_i^{(0)}\\)$ : Position initiale du i-ème écureuil.\n",
    "- $\\(\\mathbf{X}_{\\min}\\)$ : Limite inférieure de l'espace de recherche.\n",
    "- $\\(\\mathbf{X}_{\\max}\\)$ : Limite supérieure de l'espace de recherche.\n",
    "- $\\(\\mathbf{r}_i\\)$ : Vecteur aléatoire uniformément distribué dans [0, 1].\n",
    "\n",
    "### 2. Évaluation\n",
    "\n",
    "Évaluer la fitness de chaque écureuil (solution) en utilisant la fonction objectif du problème d'optimisation.\n",
    "\n",
    "$\\[ f_i = f(\\mathbf{X}_i) \\]$\n",
    "\n",
    "- $\\(f_i\\)$ : Fitness du i-ème écureuil.\n",
    "- $\\(f(\\cdot)\\)$ : Fonction objectif.\n",
    "\n",
    "### 3. Mise à jour\n",
    "\n",
    "Mettre à jour la position de chaque écureuil en fonction de sa fitness et de la position de la meilleure solution trouvée jusqu'à présent. La mise à jour est effectuée en utilisant la formule suivante :\n",
    "\n",
    "$\\[ \\mathbf{X}_i^{(t+1)} = \\mathbf{X}_i^{(t)} + \\mathbf{v}_i^{(t)} \\]$\n",
    "\n",
    "La vélocité $\\(\\mathbf{v}_i^{(t)}\\)$ peut être calculée en utilisant :\n",
    "\n",
    "$\\[ \\mathbf{v}_i^{(t)} = \\mathbf{c}_1 \\mathbf{r}_1 (\\mathbf{X}_{\\text{meilleur}}^{(t)} - \\mathbf{X}_i^{(t)}) + \\mathbf{c}_2 \\mathbf{r}_2 (\\mathbf{X}_{\\text{aléatoire}}^{(t)} - \\mathbf{X}_i^{(t)}) \\]$\n",
    "\n",
    "- $\\(\\mathbf{X}_i^{(t+1)}\\)$ : Position mise à jour du i-ème écureuil à l'itération (t+1).\n",
    "- $\\(\\mathbf{X}_i^{(t)}\\)$ : Position actuelle du i-ème écureuil à l'itération (t).\n",
    "- $\\(\\mathbf{v}_i^{(t)}\\)$ : Vélocité du i-ème écureuil à l'itération (t).\n",
    "- $\\(\\mathbf{c}_1, \\mathbf{c}_2\\)$ : Coefficients d'accélération.\n",
    "- $\\(\\mathbf{r}_1, \\mathbf{r}_2\\)$ : Vecteurs aléatoires uniformément distribués dans [0, 1].\n",
    "- $\\(\\mathbf{X}_{\\text{meilleur}}^{(t)}\\)$ : Meilleure position trouvée jusqu'à présent à l'itération (t).\n",
    "- $\\(\\mathbf{X}_{\\text{aléatoire}}^{(t)}\\)$ : Position sélectionnée aléatoirement dans la population à l'itération (t).\n",
    "\n",
    "### 4. Sélection\n",
    "\n",
    "Sélectionner la meilleure solution trouvée jusqu'à présent et l'utiliser pour guider la recherche dans l'itération suivante.\n",
    "\n",
    "$\\[ \\mathbf{X}_{\\text{meilleur}}^{(t+1)} = \\arg \\min_{\\mathbf{X}_i} f(\\mathbf{X}_i) \\]$\n",
    "\n",
    "- $\\(\\mathbf{X}_{\\text{meilleur}}^{(t+1)}\\)$ : Meilleure position à l'itération (t+1).\n",
    "\n",
    "### 5. Terminaison\n",
    "\n",
    "Si les critères d'arrêt sont atteints (par exemple, nombre maximum d'itérations atteint, solution suffisamment bonne), arrêter l'algorithme et renvoyer la meilleure solution trouvée. Sinon, retourner à l'étape 3.\n",
    "\n",
    "$\\[ \\text{si } t \\geq t_{\\max} \\text{ ou } f(\\mathbf{X}_{\\text{meilleur}}) \\leq \\epsilon \\text{ alors arrêter} \\]$\n",
    "\n",
    "- $\\(t_{\\max}\\)$ : Nombre maximum d'itérations.\n",
    "- $\\(\\epsilon\\)$ : Seuil de précision souhaité.\n",
    "\n",
    "L'algorithme OEV est simple mais efficace pour résoudre un large éventail de problèmes d'optimisation. Son principal avantage réside dans sa simplicité et sa facilité de mise en œuvre.\n",
    "\n",
    "<img src=\"Img/Flying.png\" alt=\"FST Logo\" width=\"1000\" height=\"1500\" >"
   ],
   "id": "c2b5f8082cae89d3"
  },
  {
   "metadata": {},
   "cell_type": "markdown",
   "source": "# Code: Flying Squirrel Optimizer\n",
   "id": "8cdd2ca16f6d500b"
  },
  {
   "metadata": {
    "ExecuteTime": {
     "end_time": "2024-06-24T23:23:09.288576Z",
     "start_time": "2024-06-24T23:23:08.312685Z"
    }
   },
   "cell_type": "code",
   "source": [
    "# Importation de la bibliothèque numpy sous l'alias np. Cette bibliothèque est utilisée pour travailler avec des tableaux.\n",
    "import numpy as np\n",
    "\n",
    "# Importation de la bibliothèque matplotlib.pyplot sous l'alias plt. Cette bibliothèque est utilisée pour créer des visualisations statiques, animées et interactives en Python.\n",
    "import matplotlib.pyplot as plt\n",
    "\n",
    "# Importation de modules spécifiques de la bibliothèque ipywidgets. Ces modules sont utilisés pour créer des widgets interactifs dans les notebooks Jupyter.\n",
    "from ipywidgets import Button, Output, VBox, HBox, HTML\n",
    "\n",
    "# Importation de modules spécifiques de la bibliothèque IPython.display. Ces modules sont utilisés pour afficher des widgets, des images et d'autres types d'objets.\n",
    "from IPython.display import display, clear_output"
   ],
   "id": "135c486dbc8a9f42",
   "outputs": [],
   "execution_count": 1
  },
  {
   "metadata": {
    "ExecuteTime": {
     "end_time": "2024-06-24T23:23:09.948476Z",
     "start_time": "2024-06-24T23:23:09.945138Z"
    }
   },
   "cell_type": "code",
   "source": [
    "# Définition de la fonction sphere_function. Cette fonction est un exemple de fonction objectif.\n",
    "# Elle calcule la somme des carrés des éléments d'un vecteur x.\n",
    "def sphere_function(x):\n",
    "    return np.sum(x**2)"
   ],
   "id": "1810854b4b886ac6",
   "outputs": [],
   "execution_count": 2
  },
  {
   "metadata": {
    "ExecuteTime": {
     "end_time": "2024-06-24T23:23:10.946605Z",
     "start_time": "2024-06-24T23:23:10.923020Z"
    }
   },
   "cell_type": "code",
   "source": [
    "# Définition de la classe FlyingSquirrelOptimizer. Cette classe représente l'algorithme d'optimisation Flying Squirrel.\n",
    "class FlyingSquirrelOptimizer:\n",
    "    # Initialisation de la classe avec plusieurs paramètres.\n",
    "    def __init__(self, objective_function, dimensions, bounds, population_size, max_iterations):\n",
    "        # La fonction objectif à optimiser.\n",
    "        self.objective_function = objective_function\n",
    "        # Le nombre de dimensions de l'espace de recherche.\n",
    "        self.dimensions = dimensions\n",
    "        # Les limites de l'espace de recherche.\n",
    "        self.bounds = bounds\n",
    "        # La taille de la population de solutions.\n",
    "        self.population_size = population_size\n",
    "        # Le nombre maximum d'itérations à effectuer.\n",
    "        self.max_iterations = max_iterations\n",
    "\n",
    "        # Probabilité de présence de prédateur.\n",
    "        self.pd = 0.1  \n",
    "        # Constante de glisse.\n",
    "        self.gc = 0.6  \n",
    "\n",
    "        # Définition des limites inférieure et supérieure de l'espace de recherche.\n",
    "        self.lower_bound, self.upper_bound = bounds\n",
    "        # Initialisation de la population de solutions de manière aléatoire.\n",
    "        self.population = np.random.uniform(self.lower_bound, self.upper_bound, (population_size, dimensions))\n",
    "        # Calcul de la fitness de chaque solution de la population.\n",
    "        self.fitness = np.array([objective_function(ind) for ind in self.population])\n",
    "\n",
    "        # Sélection de la meilleure solution de la population.\n",
    "        self.best_index = np.argmin(self.fitness)\n",
    "        self.best_solution = self.population[self.best_index]\n",
    "        self.best_fitness = self.fitness[self.best_index]\n",
    "\n",
    "        # Enregistrement de l'historique de la meilleure fitness.\n",
    "        self.history = [self.best_fitness]\n",
    "        # Initialisation du compteur d'itérations.\n",
    "        self.current_iteration = 0\n",
    "\n",
    "        # Création d'un graphique pour visualiser l'évolution de l'algorithme.\n",
    "        self.fig, self.ax = plt.subplots(figsize=(10, 6))\n",
    "        self.scatter = self.ax.scatter(self.population[:, 0], self.population[:, 1], c='blue', label='Population')\n",
    "        self.best_point = self.ax.scatter(self.best_solution[0], self.best_solution[1], c='red', label='Best Solution')\n",
    "        plt.xlim(self.lower_bound, self.upper_bound)\n",
    "        plt.ylim(self.lower_bound, self.upper_bound)\n",
    "        plt.title(\"Optimisation par l'optimiseur Flying Squirrel\")\n",
    "        plt.xlabel(\"Dimension 1\")\n",
    "        plt.ylabel(\"Dimension 2\")\n",
    "        plt.legend()\n",
    "        plt.grid(True)\n",
    "\n",
    "    # Définition de la méthode iterate de la classe FlyingSquirrelOptimizer.\n",
    "    def iterate(self):\n",
    "        # Vérification si le nombre d'itérations courant est inférieur au nombre maximum d'itérations.\n",
    "        if self.current_iteration < self.max_iterations:\n",
    "            # Tri des indices de la population en fonction de leur fitness.\n",
    "            sorted_indices = np.argsort(self.fitness)\n",
    "            # Réorganisation de la population et de la fitness en fonction des indices triés.\n",
    "            self.population = self.population[sorted_indices]\n",
    "            self.fitness = self.fitness[sorted_indices]\n",
    "\n",
    "            # Mise à jour de la position de chaque individu de la population.\n",
    "            for i in range(1, self.population_size):\n",
    "                # Si la condition est vraie, il n'y a pas de prédateur.\n",
    "                if np.random.random() > self.pd:\n",
    "                    r = np.random.random(self.dimensions)\n",
    "                    self.population[i] = self.population[i] + self.gc * r * (self.population[0] - self.population[i])\n",
    "                else:  # Si la condition est fausse, un prédateur est présent.\n",
    "                    self.population[i] = np.random.uniform(self.lower_bound, self.upper_bound, self.dimensions)\n",
    "\n",
    "            # Calcul de la fitness de chaque individu de la population.\n",
    "            self.fitness = np.array([self.objective_function(ind) for ind in self.population])\n",
    "\n",
    "            # Mise à jour de la meilleure solution si une meilleure fitness est trouvée.\n",
    "            if np.min(self.fitness) < self.best_fitness:\n",
    "                self.best_index = np.argmin(self.fitness)\n",
    "                self.best_solution = self.population[self.best_index]\n",
    "                self.best_fitness = self.fitness[self.best_index]\n",
    "\n",
    "            # Ajout de la meilleure fitness à l'historique.\n",
    "            self.history.append(self.best_fitness)\n",
    "\n",
    "            # Mise à jour des points du graphique.\n",
    "            self.scatter.set_offsets(self.population[:, :2])\n",
    "            self.best_point.set_offsets(self.best_solution[:2])\n",
    "            # Mise à jour du titre du graphique.\n",
    "            self.ax.set_title(f\"Optimisation par l'optimiseur Flying Squirrel\\nItération: {self.current_iteration + 1}\")\n",
    "\n",
    "            # Incrémentation du compteur d'itérations.\n",
    "            self.current_iteration += 1\n",
    "\n",
    "            # Effacement de l'affichage précédent et affichage du graphique.\n",
    "            clear_output(wait=True)\n",
    "            display(self.fig)\n",
    "            plt.close(self.fig)\n",
    "\n",
    "            # Affichage de l'itération courante et de la meilleure fitness.\n",
    "            print(f\"Itération: {self.current_iteration}\")\n",
    "            print(f\"Meilleure fitness actuelle: {self.best_fitness}\")\n",
    "\n",
    "            # Affichage des résultats de chaque fonction sous forme de tableau HTML.\n",
    "            table_html = \"<table><tr><th>Individu</th><th>Fitness</th></tr>\"\n",
    "            for i, fit in enumerate(self.fitness):\n",
    "                table_html += f\"<tr><td>{i+1}</td><td>{fit:.6f}</td></tr>\"\n",
    "            table_html += \"</table>\"\n",
    "            display(HTML(table_html))\n",
    "        else:\n",
    "            # Si le nombre maximum d'itérations est atteint, l'optimisation est terminée.\n",
    "            print(\"Optimisation terminée!\")\n"
   ],
   "id": "f7d2b213bc4bb9ae",
   "outputs": [],
   "execution_count": 3
  },
  {
   "metadata": {
    "ExecuteTime": {
     "end_time": "2024-06-24T23:23:11.835311Z",
     "start_time": "2024-06-24T23:23:11.826832Z"
    }
   },
   "cell_type": "code",
   "source": [
    "# Définir les dimensions, les limites, la taille de la population et le nombre maximum d'itérations.\n",
    "dimensions = 2\n",
    "bounds = (-10, 10)\n",
    "population_size = 30\n",
    "max_iterations = 100"
   ],
   "id": "84729dbdcc106df0",
   "outputs": [],
   "execution_count": 4
  },
  {
   "metadata": {
    "ExecuteTime": {
     "end_time": "2024-06-24T23:23:13.466029Z",
     "start_time": "2024-06-24T23:23:12.738691Z"
    }
   },
   "cell_type": "code",
   "source": [
    "# Créer une instance de l'optimiseur FlyingSquirrelOptimizer.\n",
    "# Nous utilisons la fonction sphere_function comme fonction objectif, et nous passons les dimensions, les limites, la taille de la population et le nombre maximum d'itérations que nous avons définis précédemment.\n",
    "optimizer = FlyingSquirrelOptimizer(sphere_function, dimensions, bounds, population_size, max_iterations)\n",
    "\n",
    "# Créer un bouton avec la description \"Itération suivante\".\n",
    "button = Button(description=\"Itération suivante\")\n",
    "# Créer une sortie pour afficher les résultats.\n",
    "output = Output()\n",
    "\n",
    "# Définir l'action du bouton. Lorsque le bouton est cliqué, une itération de l'optimiseur est exécutée.\n",
    "def on_button_clicked(b):\n",
    "    with output:\n",
    "        optimizer.iterate()\n",
    "\n",
    "# Associer l'action au bouton.\n",
    "button.on_click(on_button_clicked)\n",
    "\n",
    "# Afficher le bouton et la sortie dans une boîte verticale.\n",
    "display(VBox([button, output]))"
   ],
   "id": "14b1af1978030533",
   "outputs": [
    {
     "data": {
      "text/plain": [
       "VBox(children=(Button(description='Itération suivante', style=ButtonStyle()), Output()))"
      ],
      "application/vnd.jupyter.widget-view+json": {
       "version_major": 2,
       "version_minor": 0,
       "model_id": "d0d29100405d441fa2f1a6ab6d3a4442"
      }
     },
     "metadata": {},
     "output_type": "display_data"
    },
    {
     "data": {
      "text/plain": [
       "<Figure size 1000x600 with 1 Axes>"
      ],
      "image/png": "[encoded data removed]"
     },
     "metadata": {},
     "output_type": "display_data"
    }
   ],
   "execution_count": 5
  },
  {
   "metadata": {},
   "cell_type": "code",
   "outputs": [],
   "execution_count": null,
   "source": "",
   "id": "f4de62215263ecf4"
  }
 ],
 "metadata": {
  "kernelspec": {
   "display_name": "Python 3",
   "language": "python",
   "name": "python3"
  },
  "language_info": {
   "codemirror_mode": {
    "name": "ipython",
    "version": 2
   },
   "file_extension": ".py",
   "mimetype": "text/x-python",
   "name": "python",
   "nbconvert_exporter": "python",
   "pygments_lexer": "ipython2",
   "version": "2.7.6"
  }
 },
 "nbformat": 4,
 "nbformat_minor": 5
}
